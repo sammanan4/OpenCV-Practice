{
 "cells": [
  {
   "cell_type": "code",
   "execution_count": 3,
   "metadata": {},
   "outputs": [],
   "source": [
    "import cv2 as cv\n",
    "import time\n",
    "\n",
    "# path of the video file\n",
    "cap = cv.VideoCapture('capturedVideo.mp4')\n",
    "\n",
    "if cap.isOpened() == False:\n",
    "    print('Error in opening file or Recorded with unsupported Codec')\n",
    "\n",
    "while cap.isOpened():\n",
    "    \n",
    "    ret, frame = cap.read()\n",
    "    \n",
    "    if ret == True:\n",
    "        \n",
    "        # play video a little bit slow for user to see (not necessary)\n",
    "        # video recorded at 20 FPS so\n",
    "        \n",
    "        time.sleep(1/20)\n",
    "        \n",
    "        cv.imshow('frame', frame)\n",
    "    \n",
    "    else:\n",
    "        break\n",
    "    \n",
    "    while cv.waitKey(1) & 0xFF == ord('q'):\n",
    "        break\n",
    "\n",
    "cap.release()\n",
    "cv.destroyAllWindows()"
   ]
  },
  {
   "cell_type": "code",
   "execution_count": null,
   "metadata": {},
   "outputs": [],
   "source": []
  }
 ],
 "metadata": {
  "kernelspec": {
   "display_name": "Python 3",
   "language": "python",
   "name": "python3"
  },
  "language_info": {
   "codemirror_mode": {
    "name": "ipython",
    "version": 3
   },
   "file_extension": ".py",
   "mimetype": "text/x-python",
   "name": "python",
   "nbconvert_exporter": "python",
   "pygments_lexer": "ipython3",
   "version": "3.6.8"
  }
 },
 "nbformat": 4,
 "nbformat_minor": 2
}
