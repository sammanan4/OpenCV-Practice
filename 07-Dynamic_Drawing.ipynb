{
 "cells": [
  {
   "cell_type": "code",
   "execution_count": 4,
   "metadata": {},
   "outputs": [],
   "source": [
    "import cv2 as cv\n",
    "import numpy as np\n",
    "\n",
    "#define globals\n",
    "drawing = False\n",
    "ix, iy = -1, -1\n",
    "px, py = -1, -1\n",
    "\n",
    "def draw_rectangle(event, x, y, flags, param):\n",
    "    global drawing, ix, iy, px, py\n",
    "    \n",
    "    if event == cv.EVENT_LBUTTONDOWN:\n",
    "        drawing = True\n",
    "        ix, iy = x, y\n",
    "        px, py = x, y\n",
    "    \n",
    "    elif event == cv.EVENT_MOUSEMOVE and drawing == True:\n",
    "        if px < x and py < y:\n",
    "            cv.rectangle(img, (ix, iy), (x, y), (50, 200, 170), -1)\n",
    "            px, py = x, y\n",
    "    \n",
    "    elif event == cv.EVENT_LBUTTONUP:\n",
    "        drawing = False\n",
    "        ix, iy = -1, -1\n",
    "\n",
    "cv.namedWindow('my_drawing')\n",
    "\n",
    "cv.setMouseCallback('my_drawing', draw_rectangle)\n",
    "\n",
    "img = np.zeros((512, 512, 3))\n",
    "\n",
    "while True:\n",
    "    \n",
    "    cv.imshow('my_drawing', img)\n",
    "    \n",
    "    if cv.waitKey(20) & 0xFF == 27:\n",
    "        break\n",
    "        \n",
    "cv.destroyAllWindows()"
   ]
  }
 ],
 "metadata": {
  "kernelspec": {
   "display_name": "Python 3",
   "language": "python",
   "name": "python3"
  },
  "language_info": {
   "codemirror_mode": {
    "name": "ipython",
    "version": 3
   },
   "file_extension": ".py",
   "mimetype": "text/x-python",
   "name": "python",
   "nbconvert_exporter": "python",
   "pygments_lexer": "ipython3",
   "version": "3.6.8"
  }
 },
 "nbformat": 4,
 "nbformat_minor": 2
}
