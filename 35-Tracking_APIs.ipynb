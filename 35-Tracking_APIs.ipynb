{
 "cells": [
  {
   "cell_type": "code",
   "execution_count": 1,
   "metadata": {},
   "outputs": [],
   "source": [
    "import cv2 as cv"
   ]
  },
  {
   "cell_type": "code",
   "execution_count": 2,
   "metadata": {},
   "outputs": [],
   "source": [
    "def getTracker():\n",
    "    print('Required Input :')\n",
    "    print('0 for BOOSTING,')\n",
    "    print('1 for MIL,')\n",
    "    print('2 for KCF,')\n",
    "    print('3 for TLD,')\n",
    "    print('4 for MedianFLOW,')\n",
    "    \n",
    "    choice = input()\n",
    "    \n",
    "    if choice == '0':\n",
    "        tracker = cv.TrackerBoosting_create()\n",
    "    if choice == '1':\n",
    "        tracker = cv.TrackerMIL_create()\n",
    "    if choice == '2':\n",
    "        tracker = cv.TrackerKCF_create()\n",
    "    if choice == '3':\n",
    "        tracker = cv.TrackerTLD_create()\n",
    "    if choice == '4':\n",
    "        tracker = cv.TrackerMedianFlow_create()\n",
    "    \n",
    "    return tracker"
   ]
  },
  {
   "cell_type": "code",
   "execution_count": 12,
   "metadata": {},
   "outputs": [
    {
     "name": "stdout",
     "output_type": "stream",
     "text": [
      "Required Input :\n",
      "0 for BOOSTING,\n",
      "1 for MIL,\n",
      "2 for KCF,\n",
      "3 for TLD,\n",
      "4 for MedianFLOW,\n"
     ]
    },
    {
     "name": "stdin",
     "output_type": "stream",
     "text": [
      " 0\n"
     ]
    }
   ],
   "source": [
    "tracker = getTracker()\n",
    "trackerName = str(tracker).split()[0][1:]\n",
    "\n",
    "\n",
    "cap = cv.VideoCapture(0)\n",
    "\n",
    "ret, frame = cap.read()\n",
    "\n",
    "roi = cv.selectROI(frame, False)\n",
    "\n",
    "ret = tracker.init(frame, roi)\n",
    "\n",
    "while True:\n",
    "    \n",
    "    ret,frame = cap.read()\n",
    "    \n",
    "    success, roi = tracker.update(frame)\n",
    "    \n",
    "    if success:\n",
    "        \n",
    "        (x, y, w, h) = tuple(map(int, roi))\n",
    "        \n",
    "        cv.rectangle(frame, (x, y), (x+y, y+h), (0, 255, 0), 5)\n",
    "    \n",
    "    else:\n",
    "        \n",
    "        cv.putText(frame, 'Lost Object', (100, 200), cv.FONT_HERSHEY_SCRIPT_COMPLEX, 1, (0, 0, 255), 2)\n",
    "        \n",
    "    cv.putText(frame, trackerName, (20, 400), cv.FONT_HERSHEY_TRIPLEX, 1, (255, 255, 0), 5)\n",
    "    \n",
    "    cv.imshow('Tracker', frame)\n",
    "    \n",
    "    if cv.waitKey(100) & 0xFF == ord('q'):\n",
    "        break\n",
    "\n",
    "cap.release()\n",
    "cv.destroyAllWindows()\n",
    "    "
   ]
  },
  {
   "cell_type": "code",
   "execution_count": null,
   "metadata": {},
   "outputs": [],
   "source": []
  }
 ],
 "metadata": {
  "kernelspec": {
   "display_name": "Python 3",
   "language": "python",
   "name": "python3"
  },
  "language_info": {
   "codemirror_mode": {
    "name": "ipython",
    "version": 3
   },
   "file_extension": ".py",
   "mimetype": "text/x-python",
   "name": "python",
   "nbconvert_exporter": "python",
   "pygments_lexer": "ipython3",
   "version": "3.6.8"
  }
 },
 "nbformat": 4,
 "nbformat_minor": 2
}
