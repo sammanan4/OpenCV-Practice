{
 "cells": [
  {
   "cell_type": "code",
   "execution_count": 8,
   "metadata": {},
   "outputs": [],
   "source": [
    "import cv2 as cv\n",
    "\n",
    "# create a capture object (0) means default camera\n",
    "\n",
    "cap = cv.VideoCapture(0)\n",
    "\n",
    "# might require height and width of the camera\n",
    "# returns float but we usually need integer\n",
    "width = int(cap.get(cv.CAP_PROP_FRAME_WIDTH))\n",
    "height = int(cap.get(cv.CAP_PROP_FRAME_HEIGHT))\n",
    "\n",
    "# code to save the video in a file\n",
    "# create a writer object\n",
    "# 1. file path, 2. Codec to be used, 3. frame rate, 4.width and height of frame\n",
    "writer = cv.VideoWriter('capturedVideo.mp4', cv.VideoWriter_fourcc(*'DIVX'), 20, (width, height))\n",
    "\n",
    "while True:\n",
    "    \n",
    "    ret, frame = cap.read()\n",
    "    \n",
    "    # At this point we perform all operations like drawing on the frame\n",
    "    writer.write(frame)\n",
    "    \n",
    "    # convert the frame to grayscale\n",
    "#     gray = cv.cvtColor(frame, cv.COLOR_BGR2GRAY)\n",
    "    \n",
    "#     cv.imshow('frame', gray)\n",
    "    \n",
    "    # read colored instead of grayscale\n",
    "    cv.imshow('frame', frame)\n",
    "    \n",
    "    if cv.waitKey(1) & 0xFF == ord('q'):\n",
    "        break\n",
    "\n",
    "# release the webcam\n",
    "cap.release()\n",
    "writer.release()\n",
    "cv.destroyAllWindows()"
   ]
  }
 ],
 "metadata": {
  "kernelspec": {
   "display_name": "Python 3",
   "language": "python",
   "name": "python3"
  },
  "language_info": {
   "codemirror_mode": {
    "name": "ipython",
    "version": 3
   },
   "file_extension": ".py",
   "mimetype": "text/x-python",
   "name": "python",
   "nbconvert_exporter": "python",
   "pygments_lexer": "ipython3",
   "version": "3.6.8"
  }
 },
 "nbformat": 4,
 "nbformat_minor": 2
}
