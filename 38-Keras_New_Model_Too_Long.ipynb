{
 "cells": [
  {
   "cell_type": "code",
   "execution_count": null,
   "metadata": {},
   "outputs": [
    {
     "name": "stderr",
     "output_type": "stream",
     "text": [
      "Using TensorFlow backend.\n"
     ]
    },
    {
     "name": "stdout",
     "output_type": "stream",
     "text": [
      "Found 8000 images belonging to 2 classes.\n",
      "Found 2000 images belonging to 2 classes.\n",
      "WARNING:tensorflow:From C:\\Users\\Manan\\Anaconda3\\lib\\site-packages\\tensorflow\\python\\framework\\op_def_library.py:263: colocate_with (from tensorflow.python.framework.ops) is deprecated and will be removed in a future version.\n",
      "Instructions for updating:\n",
      "Colocations handled automatically by placer.\n",
      "WARNING:tensorflow:From C:\\Users\\Manan\\Anaconda3\\lib\\site-packages\\keras\\backend\\tensorflow_backend.py:3445: calling dropout (from tensorflow.python.ops.nn_ops) with keep_prob is deprecated and will be removed in a future version.\n",
      "Instructions for updating:\n",
      "Please use `rate` instead of `keep_prob`. Rate should be set to `rate = 1 - keep_prob`.\n",
      "WARNING:tensorflow:From C:\\Users\\Manan\\Anaconda3\\lib\\site-packages\\tensorflow\\python\\ops\\math_ops.py:3066: to_int32 (from tensorflow.python.ops.math_ops) is deprecated and will be removed in a future version.\n",
      "Instructions for updating:\n",
      "Use tf.cast instead.\n",
      "Epoch 1/20\n",
      "8000/8000 [==============================] - 8134s 1s/step - loss: 0.5373 - acc: 0.7162 - val_loss: 0.4455 - val_acc: 0.7965\n",
      "Epoch 2/20\n",
      "8000/8000 [==============================] - 8223s 1s/step - loss: 0.3829 - acc: 0.8269 - val_loss: 0.3637 - val_acc: 0.8435\n",
      "Epoch 3/20\n",
      "8000/8000 [==============================] - 8301s 1s/step - loss: 0.3110 - acc: 0.8654 - val_loss: 0.3313 - val_acc: 0.8612\n",
      "Epoch 4/20\n",
      "8000/8000 [==============================] - 8422s 1s/step - loss: 0.2698 - acc: 0.8847 - val_loss: 0.2973 - val_acc: 0.8781\n",
      "Epoch 5/20\n",
      "8000/8000 [==============================] - 8531s 1s/step - loss: 0.2427 - acc: 0.8976 - val_loss: 0.3128 - val_acc: 0.8761\n",
      "Epoch 6/20\n",
      "8000/8000 [==============================] - 8717s 1s/step - loss: 0.2240 - acc: 0.9067 - val_loss: 0.2980 - val_acc: 0.8823\n",
      "Epoch 7/20\n",
      "8000/8000 [==============================] - 8949s 1s/step - loss: 0.2053 - acc: 0.9148 - val_loss: 0.3111 - val_acc: 0.8886\n",
      "Epoch 8/20\n",
      "8000/8000 [==============================] - 9272s 1s/step - loss: 0.1970 - acc: 0.9193 - val_loss: 0.2866 - val_acc: 0.8909\n",
      "Epoch 9/20\n",
      "8000/8000 [==============================] - 9776s 1s/step - loss: 0.1840 - acc: 0.9251 - val_loss: 0.2835 - val_acc: 0.8918\n",
      "Epoch 10/20\n",
      "8000/8000 [==============================] - 10576s 1s/step - loss: 0.1797 - acc: 0.9271 - val_loss: 0.2758 - val_acc: 0.8954\n",
      "Epoch 11/20\n",
      "8000/8000 [==============================] - 9333s 1s/step - loss: 0.1708 - acc: 0.9308 - val_loss: 0.3004 - val_acc: 0.8923\n",
      "Epoch 12/20\n",
      "8000/8000 [==============================] - 9462s 1s/step - loss: 0.1663 - acc: 0.9327 - val_loss: 0.2796 - val_acc: 0.8987\n",
      "Epoch 13/20\n",
      "8000/8000 [==============================] - 9497s 1s/step - loss: 0.1618 - acc: 0.9348 - val_loss: 0.2900 - val_acc: 0.8989\n",
      "Epoch 14/20\n",
      "8000/8000 [==============================] - 9639s 1s/step - loss: 0.1554 - acc: 0.9372 - val_loss: 0.3114 - val_acc: 0.8919\n",
      "Epoch 15/20\n",
      "8000/8000 [==============================] - 10051s 1s/step - loss: 0.1534 - acc: 0.9388 - val_loss: 0.3166 - val_acc: 0.8925\n",
      "Epoch 16/20\n",
      "8000/8000 [==============================] - 11155s 1s/step - loss: 0.1497 - acc: 0.9400 - val_loss: 0.3438 - val_acc: 0.8993\n",
      "Epoch 17/20\n",
      "8000/8000 [==============================] - 10991s 1s/step - loss: 0.1463 - acc: 0.9415 - val_loss: 0.2949 - val_acc: 0.8958\n",
      "Epoch 18/20\n",
      "6563/8000 [=======================>......] - ETA: 33:35 - loss: 0.1451 - acc: 0.9426"
     ]
    }
   ],
   "source": [
    "from keras.preprocessing.image import ImageDataGenerator\n",
    "from keras.models import Sequential\n",
    "from keras.layers import Conv2D, MaxPooling2D, Dense, Flatten, Dropout\n",
    "\n",
    "img_gen = ImageDataGenerator(rotation_range=50,\n",
    "                            width_shift_range=0.1,\n",
    "                            height_shift_range=0.1,\n",
    "                            rescale=1/255,\n",
    "                            zoom_range=0.1,\n",
    "                            shear_range=0.2,\n",
    "                            fill_mode='nearest',\n",
    "                            horizontal_flip=True)\n",
    "\n",
    "train_set_gen = img_gen.flow_from_directory('E:\\\\Data\\\\Manan\\\\CNN_DATASET\\\\dataset\\\\training_set',\n",
    "                                           target_size=(150,150),\n",
    "                                           class_mode='binary',\n",
    "                                           batch_size=32)\n",
    "\n",
    "test_set_gen = img_gen.flow_from_directory('E:\\\\Data\\\\Manan\\\\CNN_DATASET\\\\dataset\\\\test_set',\n",
    "                                           target_size=(150,150),\n",
    "                                           class_mode='binary',\n",
    "                                           batch_size=32)\n",
    "\n",
    "model = Sequential()\n",
    "model.add(Conv2D(filters=64, kernel_size=(3,3), activation='relu', input_shape=(150,150,3)))\n",
    "model.add(MaxPooling2D(pool_size=(2,2)))\n",
    "model.add(Conv2D(filters=64, kernel_size=(3,3), activation='relu'))\n",
    "model.add(MaxPooling2D(pool_size=(2,2)))\n",
    "model.add(Conv2D(filters=32, kernel_size=(3,3), activation='relu'))\n",
    "model.add(MaxPooling2D(pool_size=(2,2)))\n",
    "model.add(Flatten())\n",
    "model.add(Dense(128, activation='relu'))\n",
    "model.add(Dropout(0.35))\n",
    "model.add(Dense(1, activation='sigmoid'))\n",
    "model.compile(loss = 'binary_crossentropy',\n",
    "              optimizer = 'adam',\n",
    "              metrics = ['accuracy'])\n",
    "\n",
    "# model.summary()\n",
    "\n",
    "result = model.fit_generator(train_set_gen,\n",
    "                   steps_per_epoch=8000,\n",
    "                   epochs=20,\n",
    "                   validation_data=test_set_gen,\n",
    "                   validation_steps=2000)"
   ]
  },
  {
   "cell_type": "markdown",
   "metadata": {},
   "source": [
    "<h2>Save Model</h2>"
   ]
  },
  {
   "cell_type": "code",
   "execution_count": 1,
   "metadata": {},
   "outputs": [
    {
     "ename": "NameError",
     "evalue": "name 'model' is not defined",
     "output_type": "error",
     "traceback": [
      "\u001b[1;31m---------------------------------------------------------------------------\u001b[0m",
      "\u001b[1;31mNameError\u001b[0m                                 Traceback (most recent call last)",
      "\u001b[1;32m<ipython-input-1-cf9f13879eac>\u001b[0m in \u001b[0;36m<module>\u001b[1;34m\u001b[0m\n\u001b[0;32m      1\u001b[0m \u001b[1;31m# model.save('CatsDogs_85.h5')\u001b[0m\u001b[1;33m\u001b[0m\u001b[1;33m\u001b[0m\u001b[1;33m\u001b[0m\u001b[0m\n\u001b[1;32m----> 2\u001b[1;33m \u001b[0mmodel\u001b[0m\u001b[1;33m\u001b[0m\u001b[1;33m\u001b[0m\u001b[0m\n\u001b[0m",
      "\u001b[1;31mNameError\u001b[0m: name 'model' is not defined"
     ]
    }
   ],
   "source": [
    "# model.save('CatsDogs_85.h5')\n",
    "model"
   ]
  },
  {
   "cell_type": "markdown",
   "metadata": {},
   "source": [
    "<h2>Plot Accuracy History</h2>"
   ]
  },
  {
   "cell_type": "code",
   "execution_count": 23,
   "metadata": {},
   "outputs": [
    {
     "data": {
      "text/plain": [
       "<bound method Callback.on_train_end of <keras.callbacks.History object at 0x000001C438789EB8>>"
      ]
     },
     "execution_count": 23,
     "metadata": {},
     "output_type": "execute_result"
    },
    {
     "data": {
      "image/png": "[encoded data removed]",
      "text/plain": [
       "<Figure size 432x288 with 1 Axes>"
      ]
     },
     "metadata": {
      "needs_background": "light"
     },
     "output_type": "display_data"
    }
   ],
   "source": [
    "import matplotlib.pyplot as plt\n",
    "plt.plot(result.history['acc'])"
   ]
  },
  {
   "cell_type": "markdown",
   "metadata": {},
   "source": [
    "<h2>Test the model</h2>"
   ]
  },
  {
   "cell_type": "code",
   "execution_count": 40,
   "metadata": {},
   "outputs": [
    {
     "data": {
      "text/plain": [
       "array([[0]])"
      ]
     },
     "execution_count": 40,
     "metadata": {},
     "output_type": "execute_result"
    }
   ],
   "source": [
    "dog_file = 'E:\\\\Data\\\\Manan\\\\CNN_DATASET\\\\dataset\\\\test_set\\\\cats\\\\cat.4123.jpg'\n",
    "from keras.preprocessing import image\n",
    "import numpy as np\n",
    "img = image.load_img(dog_file, target_size = (150,150))\n",
    "img = image.img_to_array(img)\n",
    "img  = np.expand_dims(img, axis = 0)\n",
    "img = img/255\n",
    "model.predict_classes(img)"
   ]
  },
  {
   "cell_type": "code",
   "execution_count": 41,
   "metadata": {},
   "outputs": [
    {
     "data": {
      "text/plain": [
       "array([[0.0747487]], dtype=float32)"
      ]
     },
     "execution_count": 41,
     "metadata": {},
     "output_type": "execute_result"
    }
   ],
   "source": [
    "model.predict(img)"
   ]
  },
  {
   "cell_type": "code",
   "execution_count": 47,
   "metadata": {},
   "outputs": [],
   "source": [
    "images_array = list()\n",
    "for i in range(4001,4051):\n",
    "    dog = 'E:\\\\Data\\\\Manan\\\\CNN_DATASET\\\\dataset\\\\test_set\\\\cats\\\\cat.'+str(i)+'.jpg'\n",
    "    img = image.load_img(dog, target_size = (150,150))\n",
    "    img = image.img_to_array(img)\n",
    "    img = img/255\n",
    "    images_array.append(img)\n",
    "images_final = np.array(images_array)"
   ]
  },
  {
   "cell_type": "code",
   "execution_count": 48,
   "metadata": {},
   "outputs": [],
   "source": [
    "predictions = model.predict_classes(images_final)"
   ]
  },
  {
   "cell_type": "code",
   "execution_count": 52,
   "metadata": {},
   "outputs": [],
   "source": [
    "# predictions"
   ]
  },
  {
   "cell_type": "code",
   "execution_count": 50,
   "metadata": {},
   "outputs": [],
   "source": [
    "predictions_prob = model.predict(images_final)"
   ]
  },
  {
   "cell_type": "code",
   "execution_count": 53,
   "metadata": {},
   "outputs": [],
   "source": [
    "# predictions_prob"
   ]
  },
  {
   "cell_type": "code",
   "execution_count": 54,
   "metadata": {},
   "outputs": [],
   "source": [
    "# Using a prebuilt model by trainer\n",
    "from keras.models import load_model\n",
    "trainersModel = load_model('DATA/cat_dog_100epochs.h5')"
   ]
  },
  {
   "cell_type": "code",
   "execution_count": 55,
   "metadata": {},
   "outputs": [],
   "source": [
    "predictions2 = trainersModel.predict_classes(images_final)"
   ]
  },
  {
   "cell_type": "code",
   "execution_count": 57,
   "metadata": {},
   "outputs": [],
   "source": [
    "# predictions2\n",
    "predictions_prob2 = trainersModel.predict(images_final)"
   ]
  },
  {
   "cell_type": "code",
   "execution_count": 58,
   "metadata": {},
   "outputs": [
    {
     "data": {
      "text/plain": [
       "array([[0.8496556 ],\n",
       "       [0.5116209 ],\n",
       "       [0.0867179 ],\n",
       "       [0.3072428 ],\n",
       "       [0.01366624],\n",
       "       [0.8953581 ],\n",
       "       [0.51911545],\n",
       "       [0.63699913],\n",
       "       [0.67039084],\n",
       "       [0.4723214 ],\n",
       "       [0.05945349],\n",
       "       [0.2781796 ],\n",
       "       [0.00736603],\n",
       "       [0.06600109],\n",
       "       [0.43492523],\n",
       "       [0.61568326],\n",
       "       [0.4570987 ],\n",
       "       [0.19732198],\n",
       "       [0.1124976 ],\n",
       "       [0.1958059 ],\n",
       "       [0.5177714 ],\n",
       "       [0.11709011],\n",
       "       [0.21337336],\n",
       "       [0.13810036],\n",
       "       [0.24537858],\n",
       "       [0.10230297],\n",
       "       [0.04373547],\n",
       "       [0.11078036],\n",
       "       [0.13616008],\n",
       "       [0.57096523],\n",
       "       [0.24498987],\n",
       "       [0.11556363],\n",
       "       [0.81302553],\n",
       "       [0.0043543 ],\n",
       "       [0.30921492],\n",
       "       [0.15065825],\n",
       "       [0.5975686 ],\n",
       "       [0.698293  ],\n",
       "       [0.33019346],\n",
       "       [0.30998755],\n",
       "       [0.11187279],\n",
       "       [0.4650968 ],\n",
       "       [0.09128731],\n",
       "       [0.5994949 ],\n",
       "       [0.0217129 ],\n",
       "       [0.20516017],\n",
       "       [0.20313355],\n",
       "       [0.02951694],\n",
       "       [0.0981454 ],\n",
       "       [0.7318114 ]], dtype=float32)"
      ]
     },
     "execution_count": 58,
     "metadata": {},
     "output_type": "execute_result"
    }
   ],
   "source": [
    "predictions_prob2"
   ]
  },
  {
   "cell_type": "code",
   "execution_count": 59,
   "metadata": {},
   "outputs": [
    {
     "data": {
      "text/plain": [
       "array([[2.8976333e-01],\n",
       "       [1.4063242e-01],\n",
       "       [1.0554016e-02],\n",
       "       [2.3831296e-01],\n",
       "       [3.6924183e-03],\n",
       "       [8.0641377e-01],\n",
       "       [5.8954328e-02],\n",
       "       [9.7213399e-01],\n",
       "       [4.3520069e-01],\n",
       "       [5.0737101e-01],\n",
       "       [3.5045731e-01],\n",
       "       [4.2413363e-01],\n",
       "       [3.2585442e-02],\n",
       "       [2.5430620e-03],\n",
       "       [1.8252960e-01],\n",
       "       [2.6352432e-01],\n",
       "       [9.5488727e-03],\n",
       "       [3.5670444e-01],\n",
       "       [2.5023431e-02],\n",
       "       [6.9908905e-01],\n",
       "       [3.8912284e-01],\n",
       "       [1.8754056e-01],\n",
       "       [7.9366565e-04],\n",
       "       [6.0639381e-03],\n",
       "       [9.3948245e-03],\n",
       "       [6.8091071e-01],\n",
       "       [5.7151794e-02],\n",
       "       [8.7111294e-03],\n",
       "       [2.4421215e-03],\n",
       "       [4.8491222e-01],\n",
       "       [5.4965413e-01],\n",
       "       [2.8675663e-01],\n",
       "       [8.4805083e-01],\n",
       "       [4.1843605e-01],\n",
       "       [1.5866637e-01],\n",
       "       [5.7858253e-01],\n",
       "       [5.3554976e-01],\n",
       "       [9.3219459e-02],\n",
       "       [4.3891966e-01],\n",
       "       [6.9124669e-02],\n",
       "       [6.0285926e-03],\n",
       "       [1.9527310e-01],\n",
       "       [1.3764659e-01],\n",
       "       [6.4037192e-01],\n",
       "       [1.6801089e-02],\n",
       "       [1.1934078e-01],\n",
       "       [6.7201328e-01],\n",
       "       [3.9389431e-03],\n",
       "       [1.2087125e-01],\n",
       "       [2.9528362e-01]], dtype=float32)"
      ]
     },
     "execution_count": 59,
     "metadata": {},
     "output_type": "execute_result"
    }
   ],
   "source": [
    "predictions_prob = model.predict(images_final)"
   ]
  },
  {
   "cell_type": "code",
   "execution_count": null,
   "metadata": {},
   "outputs": [],
   "source": []
  }
 ],
 "metadata": {
  "kernelspec": {
   "display_name": "Python 3",
   "language": "python",
   "name": "python3"
  },
  "language_info": {
   "codemirror_mode": {
    "name": "ipython",
    "version": 3
   },
   "file_extension": ".py",
   "mimetype": "text/x-python",
   "name": "python",
   "nbconvert_exporter": "python",
   "pygments_lexer": "ipython3",
   "version": "3.6.8"
  }
 },
 "nbformat": 4,
 "nbformat_minor": 2
}
