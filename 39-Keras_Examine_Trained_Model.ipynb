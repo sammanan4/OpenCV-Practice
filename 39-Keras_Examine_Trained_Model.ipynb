{
 "cells": [
  {
   "cell_type": "code",
   "execution_count": 53,
   "metadata": {},
   "outputs": [],
   "source": [
    "def getPredictionAnalysis(pred,correct=0):\n",
    "    right = len(pred.ravel()[pred.ravel()==correct])\n",
    "    wrong = len(pred.ravel()) - right\n",
    "    return (right,wrong)\n",
    "\n",
    "def getPredictionProbAnalysis(pred1,pred2,Class=1):\n",
    "    comparison = list(zip(pred1.ravel(), pred2.ravel()))\n",
    "    for p1, p2 in comparison:\n",
    "        if Class == 1:\n",
    "            print(f'My Prediction Percentage: {p1*100:2.2f}',\n",
    "                  f'Trainer\\'s Prediction Percentage: {p2*100:2.2f}',\n",
    "                  sep='\\t')\n",
    "        else:\n",
    "            print(f'My Prediction Percentage: {100 - p1*100:2.2f}',\n",
    "                  f'Trainer\\'s Prediction Percentage: {100 - p2*100:2.2f}',\n",
    "                  sep='\\t')"
   ]
  },
  {
   "cell_type": "code",
   "execution_count": 31,
   "metadata": {},
   "outputs": [],
   "source": [
    "from keras.preprocessing import image\n",
    "from keras.models import load_model\n",
    "import numpy as np\n",
    "\n",
    "model1 = load_model('CatsDogs_85.h5')\n",
    "model2 = load_model('DATA/cat_dog_100epochs.h5')\n",
    "\n",
    "images_array1 = list()\n",
    "for i in range(4001,4051):\n",
    "    cat = 'E:\\\\Data\\\\Manan\\\\CNN_DATASET\\\\dataset\\\\test_set\\\\cats\\\\cat.'+str(i)+'.jpg'\n",
    "    cat_img = image.load_img(cat, target_size = (150,150))\n",
    "    cat_img = image.img_to_array(cat_img)\n",
    "    cat_img = cat_img/255\n",
    "    images_array1.append(cat_img)\n",
    "images_final1 = np.array(images_array1)\n",
    "\n",
    "images_array2 = list()\n",
    "for i in range(4001,4051):\n",
    "    dog = 'E:\\\\Data\\\\Manan\\\\CNN_DATASET\\\\dataset\\\\test_set\\\\dogs\\\\dog.'+str(i)+'.jpg'\n",
    "    dog_img = image.load_img(dog, target_size = (150,150))\n",
    "    dog_img = image.img_to_array(dog_img)\n",
    "    dog_img = dog_img/255\n",
    "    images_array2.append(dog_img)\n",
    "images_final2 = np.array(images_array2)\n",
    "\n",
    "# cat_file = 'E:\\\\Data\\\\Manan\\\\CNN_DATASET\\\\dataset\\\\test_set\\\\cats\\\\cat.4123.jpg'\n",
    "# cat_img = image.load_img(cat_file, target_size = (150,150))\n",
    "# cat_img = image.img_to_array(cat_img)\n",
    "# cat_img  = np.expand_dims(cat_img, axis = 0)\n",
    "# cat_img = cat_img/255\n",
    "\n",
    "pred_cats1 = model1.predict_classes(images_final1)\n",
    "pred_cats2 = model2.predict_classes(images_final1)\n",
    "prob_pred_cats1 = model1.predict(images_final1)\n",
    "prob_pred_cats2 = model2.predict(images_final1)\n",
    "\n",
    "pred_dogs1 = model1.predict_classes(images_final2)\n",
    "pred_dogs2 = model2.predict_classes(images_final2)\n",
    "prob_pred_dogs1 = model1.predict(images_final2)\n",
    "prob_pred_dogs2 = model2.predict(images_final2)"
   ]
  },
  {
   "cell_type": "code",
   "execution_count": 29,
   "metadata": {},
   "outputs": [],
   "source": [
    "# cat predictions\n",
    "myCatPrediction = getPredictionAnalysis(pred_cats1)\n",
    "trainersCatPrediction = getPredictionAnalysis(pred_cats2)\n",
    "\n",
    "# dogs predictions\n",
    "myDogPrediction = getPredictionAnalysis(pred_dogs1,1)\n",
    "trainersDogPrediction = getPredictionAnalysis(pred_dogs2,1)"
   ]
  },
  {
   "cell_type": "code",
   "execution_count": 30,
   "metadata": {},
   "outputs": [
    {
     "name": "stdout",
     "output_type": "stream",
     "text": [
      "My Cat Model (right, wrong):(39, 11)\n",
      "Trainer's Cat Model (right, wrong):(36, 14)\n",
      "My Dog Model (right, wrong):(49, 1)\n",
      "Trainer's Dog Model (right, wrong):(46, 4)\n"
     ]
    }
   ],
   "source": [
    "print('My Cat Model (right, wrong)', myCatPrediction, sep=':', end='\\n')\n",
    "print('Trainer\\'s Cat Model (right, wrong)', trainersCatPrediction, sep=':', end='\\n')\n",
    "print('My Dog Model (right, wrong)', myDogPrediction, sep=':', end='\\n')\n",
    "print('Trainer\\'s Dog Model (right, wrong)', trainersDogPrediction, sep=':', end='\\n')"
   ]
  },
  {
   "cell_type": "code",
   "execution_count": 54,
   "metadata": {},
   "outputs": [
    {
     "name": "stdout",
     "output_type": "stream",
     "text": [
      "My Prediction Percentage: 71.02\tTrainer's Prediction Percentage: 15.03\n",
      "My Prediction Percentage: 85.94\tTrainer's Prediction Percentage: 48.84\n",
      "My Prediction Percentage: 98.94\tTrainer's Prediction Percentage: 91.33\n",
      "My Prediction Percentage: 76.17\tTrainer's Prediction Percentage: 69.28\n",
      "My Prediction Percentage: 99.63\tTrainer's Prediction Percentage: 98.63\n",
      "My Prediction Percentage: 19.36\tTrainer's Prediction Percentage: 10.46\n",
      "My Prediction Percentage: 94.10\tTrainer's Prediction Percentage: 48.09\n",
      "My Prediction Percentage: 2.79\tTrainer's Prediction Percentage: 36.30\n",
      "My Prediction Percentage: 56.48\tTrainer's Prediction Percentage: 32.96\n",
      "My Prediction Percentage: 49.26\tTrainer's Prediction Percentage: 52.77\n",
      "My Prediction Percentage: 64.95\tTrainer's Prediction Percentage: 94.05\n",
      "My Prediction Percentage: 57.59\tTrainer's Prediction Percentage: 72.18\n",
      "My Prediction Percentage: 96.74\tTrainer's Prediction Percentage: 99.26\n",
      "My Prediction Percentage: 99.75\tTrainer's Prediction Percentage: 93.40\n",
      "My Prediction Percentage: 81.75\tTrainer's Prediction Percentage: 56.51\n",
      "My Prediction Percentage: 73.65\tTrainer's Prediction Percentage: 38.43\n",
      "My Prediction Percentage: 99.05\tTrainer's Prediction Percentage: 54.29\n",
      "My Prediction Percentage: 64.33\tTrainer's Prediction Percentage: 80.27\n",
      "My Prediction Percentage: 97.50\tTrainer's Prediction Percentage: 88.75\n",
      "My Prediction Percentage: 30.09\tTrainer's Prediction Percentage: 80.42\n",
      "My Prediction Percentage: 61.09\tTrainer's Prediction Percentage: 48.22\n",
      "My Prediction Percentage: 81.25\tTrainer's Prediction Percentage: 88.29\n",
      "My Prediction Percentage: 99.92\tTrainer's Prediction Percentage: 78.66\n",
      "My Prediction Percentage: 99.39\tTrainer's Prediction Percentage: 86.19\n",
      "My Prediction Percentage: 99.06\tTrainer's Prediction Percentage: 75.46\n",
      "My Prediction Percentage: 31.91\tTrainer's Prediction Percentage: 89.77\n",
      "My Prediction Percentage: 94.28\tTrainer's Prediction Percentage: 95.63\n",
      "My Prediction Percentage: 99.13\tTrainer's Prediction Percentage: 88.92\n",
      "My Prediction Percentage: 99.76\tTrainer's Prediction Percentage: 86.38\n",
      "My Prediction Percentage: 51.51\tTrainer's Prediction Percentage: 42.90\n",
      "My Prediction Percentage: 45.03\tTrainer's Prediction Percentage: 75.50\n",
      "My Prediction Percentage: 71.32\tTrainer's Prediction Percentage: 88.44\n",
      "My Prediction Percentage: 15.19\tTrainer's Prediction Percentage: 18.70\n",
      "My Prediction Percentage: 58.16\tTrainer's Prediction Percentage: 99.56\n",
      "My Prediction Percentage: 84.13\tTrainer's Prediction Percentage: 69.08\n",
      "My Prediction Percentage: 42.14\tTrainer's Prediction Percentage: 84.93\n",
      "My Prediction Percentage: 46.45\tTrainer's Prediction Percentage: 40.24\n",
      "My Prediction Percentage: 90.68\tTrainer's Prediction Percentage: 30.17\n",
      "My Prediction Percentage: 56.11\tTrainer's Prediction Percentage: 66.98\n",
      "My Prediction Percentage: 93.09\tTrainer's Prediction Percentage: 69.00\n",
      "My Prediction Percentage: 99.40\tTrainer's Prediction Percentage: 88.81\n",
      "My Prediction Percentage: 80.47\tTrainer's Prediction Percentage: 53.49\n",
      "My Prediction Percentage: 86.24\tTrainer's Prediction Percentage: 90.87\n",
      "My Prediction Percentage: 35.96\tTrainer's Prediction Percentage: 40.05\n",
      "My Prediction Percentage: 98.32\tTrainer's Prediction Percentage: 97.83\n",
      "My Prediction Percentage: 88.07\tTrainer's Prediction Percentage: 79.48\n",
      "My Prediction Percentage: 32.80\tTrainer's Prediction Percentage: 79.69\n",
      "My Prediction Percentage: 99.61\tTrainer's Prediction Percentage: 97.05\n",
      "My Prediction Percentage: 87.91\tTrainer's Prediction Percentage: 90.19\n",
      "My Prediction Percentage: 70.47\tTrainer's Prediction Percentage: 26.82\n"
     ]
    }
   ],
   "source": [
    "getPredictionProbAnalysis(prob_pred_cats1, prob_pred_cats2, 0)"
   ]
  },
  {
   "cell_type": "code",
   "execution_count": 47,
   "metadata": {},
   "outputs": [
    {
     "data": {
      "text/plain": [
       "array([0, 0, 0, 0, 0, 1, 0, 1, 0, 1, 0, 0, 0, 0, 0, 0, 0, 0, 0, 1, 0, 0,\n",
       "       0, 0, 0, 1, 0, 0, 0, 0, 1, 0, 1, 0, 0, 1, 1, 0, 0, 0, 0, 0, 0, 1,\n",
       "       0, 0, 1, 0, 0, 0])"
      ]
     },
     "execution_count": 47,
     "metadata": {},
     "output_type": "execute_result"
    }
   ],
   "source": [
    "pred_cats1.ravel()"
   ]
  },
  {
   "cell_type": "code",
   "execution_count": 48,
   "metadata": {},
   "outputs": [
    {
     "data": {
      "text/plain": [
       "array([1, 1, 0, 0, 0, 1, 1, 1, 1, 0, 0, 0, 0, 0, 0, 1, 0, 0, 0, 0, 1, 0,\n",
       "       0, 0, 0, 0, 0, 0, 0, 1, 0, 0, 1, 0, 0, 0, 1, 1, 0, 0, 0, 0, 0, 1,\n",
       "       0, 0, 0, 0, 0, 1])"
      ]
     },
     "execution_count": 48,
     "metadata": {},
     "output_type": "execute_result"
    }
   ],
   "source": [
    "pred_cats2.ravel()"
   ]
  },
  {
   "cell_type": "code",
   "execution_count": null,
   "metadata": {},
   "outputs": [],
   "source": []
  }
 ],
 "metadata": {
  "kernelspec": {
   "display_name": "Python 3",
   "language": "python",
   "name": "python3"
  },
  "language_info": {
   "codemirror_mode": {
    "name": "ipython",
    "version": 3
   },
   "file_extension": ".py",
   "mimetype": "text/x-python",
   "name": "python",
   "nbconvert_exporter": "python",
   "pygments_lexer": "ipython3",
   "version": "3.6.8"
  }
 },
 "nbformat": 4,
 "nbformat_minor": 2
}
