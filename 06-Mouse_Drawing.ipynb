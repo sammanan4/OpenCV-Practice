{
 "cells": [
  {
   "cell_type": "code",
   "execution_count": 1,
   "metadata": {},
   "outputs": [],
   "source": [
    "import cv2 as cv\n",
    "import numpy as np\n",
    "\n",
    "\n",
    "##############\n",
    "## FUNCTION ##\n",
    "##############\n",
    "def draw_circle(event, x, y, flags, param):\n",
    "    \n",
    "    if event == cv.EVENT_LBUTTONDOWN:\n",
    "        \n",
    "        cv.circle(img, (x,y), 50, (0,255,0), 5)\n",
    "\n",
    "# create a named window \n",
    "cv.namedWindow(winname = 'my_drawing')\n",
    "\n",
    "# connecting callback function\n",
    "cv.setMouseCallback('my_drawing', draw_circle)\n",
    "\n",
    "###############################\n",
    "## SHOWING IMAGE WITH OpenCV ##\n",
    "###############################\n",
    "\n",
    "img = np.zeros((512, 512, 3), np.int8)\n",
    "\n",
    "while True:\n",
    "    \n",
    "    cv.imshow('my_drawing', img)\n",
    "    \n",
    "    if cv.waitKey(20) & 0xFF == 27:\n",
    "        break\n",
    "\n",
    "cv.destroyAllWindows()"
   ]
  },
  {
   "cell_type": "code",
   "execution_count": null,
   "metadata": {},
   "outputs": [],
   "source": []
  },
  {
   "cell_type": "code",
   "execution_count": null,
   "metadata": {},
   "outputs": [],
   "source": []
  }
 ],
 "metadata": {
  "kernelspec": {
   "display_name": "Python 3",
   "language": "python",
   "name": "python3"
  },
  "language_info": {
   "codemirror_mode": {
    "name": "ipython",
    "version": 3
   },
   "file_extension": ".py",
   "mimetype": "text/x-python",
   "name": "python",
   "nbconvert_exporter": "python",
   "pygments_lexer": "ipython3",
   "version": "3.6.8"
  }
 },
 "nbformat": 4,
 "nbformat_minor": 2
}
