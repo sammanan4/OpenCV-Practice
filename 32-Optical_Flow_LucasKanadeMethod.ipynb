{
 "cells": [
  {
   "cell_type": "code",
   "execution_count": 1,
   "metadata": {},
   "outputs": [],
   "source": [
    "import cv2 as cv\n",
    "import numpy as np"
   ]
  },
  {
   "cell_type": "code",
   "execution_count": 4,
   "metadata": {},
   "outputs": [],
   "source": [
    "trackCornerParams = dict(maxCorners = 20, qualityLevel = 0.3, minDistance = 7, blockSize = 7)\n",
    "\n",
    "# greater winSize =  smaller movements hard to detect\n",
    "# smaller winSize =  too much noise means too many movements are detected\n",
    "# set default = 200,200\n",
    "\n",
    "# maxLevel is some kind of Pyramid level\n",
    "# TERM_CRITERIA_COUNT = 10 here (defines the number of iterations) ( more iterations = better results but takes time)\n",
    "# TERM_CRITERIA_EPS = 0.03 (epslon) (defines the time for which the iterations run) ( more time = better results)\n",
    "# among the two if one exhausts the iterations stop\n",
    "lk_params = dict(winSize = (50, 50), maxLevel = 5, criteria = (cv.TERM_CRITERIA_EPS | cv.TERM_CRITERIA_COUNT, 20, 0.1))\n",
    "\n",
    "cap = cv.VideoCapture(0)\n",
    "\n",
    "ret, prevFrame = cap.read()\n",
    "\n",
    "grayPrev = cv.cvtColor(prevFrame, cv.COLOR_BGR2GRAY)\n",
    "\n",
    "# i should call it previous points as these are the points of the previous frame which are tracked\n",
    "# instead of trackPoints\n",
    "prevPts = cv.goodFeaturesToTrack(grayPrev, mask = None, **trackCornerParams)\n",
    "\n",
    "mask = np.zeros_like(prevFrame)\n",
    "\n",
    "while True:\n",
    "    \n",
    "    ret, frame = cap.read()\n",
    "    \n",
    "    grayFrame = cv.cvtColor(frame, cv.COLOR_BGR2GRAY)\n",
    "    \n",
    "    # Pyramid Lucas Kanade method\n",
    "    \n",
    "    # nextPts =  output vector of 2D points\n",
    "    # status = vector of unsigned chars with value either 0 or 1(if flow for corresponding element has been found)\n",
    "    # err = for errors\n",
    "    nextPts, status, err = cv.calcOpticalFlowPyrLK(grayPrev, grayFrame, prevPts, nextPts = None, **lk_params)\n",
    "    \n",
    "    # these two contain old and new coordinates of tracked points\n",
    "    goodElementsNew = nextPts[status == 1]\n",
    "    goodElementsOld = prevPts[status == 1]\n",
    "    \n",
    "    for i, (new, old) in enumerate(zip(goodElementsNew, goodElementsOld)):\n",
    "        \n",
    "        xNew, yNew = new.ravel()\n",
    "        xOld, yOld = old.ravel()\n",
    "        \n",
    "        mask = cv.line(mask, (xNew, yNew), (xOld, yOld), (0, 255, 0), 3)\n",
    "        \n",
    "        frame = cv.circle(frame, (xNew, yNew), 5, (0, 0, 255), -1)\n",
    "        \n",
    "    img = cv.add(mask, frame)\n",
    "        \n",
    "    cv.imshow('Tracking', img)\n",
    "        \n",
    "    if cv.waitKey(1) & 0xFF == ord('q'):\n",
    "        break\n",
    "    \n",
    "    grayPrev = grayFrame.copy()\n",
    "    prevPts = goodElementsNew.reshape(-1, 1, 2)\n",
    "\n",
    "        \n",
    "cv.destroyAllWindows()\n",
    "cap.release()"
   ]
  },
  {
   "cell_type": "code",
   "execution_count": null,
   "metadata": {},
   "outputs": [],
   "source": []
  }
 ],
 "metadata": {
  "kernelspec": {
   "display_name": "Python 3",
   "language": "python",
   "name": "python3"
  },
  "language_info": {
   "codemirror_mode": {
    "name": "ipython",
    "version": 3
   },
   "file_extension": ".py",
   "mimetype": "text/x-python",
   "name": "python",
   "nbconvert_exporter": "python",
   "pygments_lexer": "ipython3",
   "version": "3.6.8"
  }
 },
 "nbformat": 4,
 "nbformat_minor": 2
}
