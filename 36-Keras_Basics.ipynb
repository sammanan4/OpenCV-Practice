{
 "cells": [
  {
   "cell_type": "code",
   "execution_count": 1,
   "metadata": {},
   "outputs": [],
   "source": [
    "import numpy as np\n",
    "from numpy import genfromtxt"
   ]
  },
  {
   "cell_type": "code",
   "execution_count": 2,
   "metadata": {},
   "outputs": [],
   "source": [
    "data = genfromtxt('DATA/bank_note_data.txt', delimiter=',')"
   ]
  },
  {
   "cell_type": "code",
   "execution_count": 3,
   "metadata": {},
   "outputs": [
    {
     "data": {
      "text/plain": [
       "array([[  3.6216 ,   8.6661 ,  -2.8073 ,  -0.44699,   0.     ],\n",
       "       [  4.5459 ,   8.1674 ,  -2.4586 ,  -1.4621 ,   0.     ],\n",
       "       [  3.866  ,  -2.6383 ,   1.9242 ,   0.10645,   0.     ],\n",
       "       ...,\n",
       "       [ -3.7503 , -13.4586 ,  17.5932 ,  -2.7771 ,   1.     ],\n",
       "       [ -3.5637 ,  -8.3827 ,  12.393  ,  -1.2823 ,   1.     ],\n",
       "       [ -2.5419 ,  -0.65804,   2.6842 ,   1.1952 ,   1.     ]])"
      ]
     },
     "execution_count": 3,
     "metadata": {},
     "output_type": "execute_result"
    }
   ],
   "source": [
    "data"
   ]
  },
  {
   "cell_type": "code",
   "execution_count": 4,
   "metadata": {},
   "outputs": [],
   "source": [
    "# Spliting the data into dependent and independent variables\n",
    "labels = data[:,4]\n",
    "features = data[:,0:4]"
   ]
  },
  {
   "cell_type": "code",
   "execution_count": 5,
   "metadata": {},
   "outputs": [
    {
     "data": {
      "text/plain": [
       "array([0., 0., 0., ..., 1., 1., 1.])"
      ]
     },
     "execution_count": 5,
     "metadata": {},
     "output_type": "execute_result"
    }
   ],
   "source": [
    "labels"
   ]
  },
  {
   "cell_type": "code",
   "execution_count": 6,
   "metadata": {},
   "outputs": [
    {
     "data": {
      "text/plain": [
       "array([[  3.6216 ,   8.6661 ,  -2.8073 ,  -0.44699],\n",
       "       [  4.5459 ,   8.1674 ,  -2.4586 ,  -1.4621 ],\n",
       "       [  3.866  ,  -2.6383 ,   1.9242 ,   0.10645],\n",
       "       ...,\n",
       "       [ -3.7503 , -13.4586 ,  17.5932 ,  -2.7771 ],\n",
       "       [ -3.5637 ,  -8.3827 ,  12.393  ,  -1.2823 ],\n",
       "       [ -2.5419 ,  -0.65804,   2.6842 ,   1.1952 ]])"
      ]
     },
     "execution_count": 6,
     "metadata": {},
     "output_type": "execute_result"
    }
   ],
   "source": [
    "features"
   ]
  },
  {
   "cell_type": "code",
   "execution_count": 7,
   "metadata": {},
   "outputs": [],
   "source": [
    "# ML notations\n",
    "X = features\n",
    "y = labels"
   ]
  },
  {
   "cell_type": "code",
   "execution_count": 8,
   "metadata": {},
   "outputs": [],
   "source": [
    "# Splitting the data into test and training set\n",
    "# Also Randomizes the order of the data\n",
    "from sklearn.model_selection import train_test_split\n",
    "X_train, X_test, y_train, y_test = train_test_split(X, y, test_size = 0.33, random_state = 42)"
   ]
  },
  {
   "cell_type": "code",
   "execution_count": 9,
   "metadata": {},
   "outputs": [],
   "source": [
    "# Feature scaling\n",
    "from sklearn.preprocessing import MinMaxScaler"
   ]
  },
  {
   "cell_type": "code",
   "execution_count": 10,
   "metadata": {},
   "outputs": [],
   "source": [
    "scaler = MinMaxScaler()"
   ]
  },
  {
   "cell_type": "code",
   "execution_count": 11,
   "metadata": {},
   "outputs": [
    {
     "data": {
      "text/plain": [
       "MinMaxScaler(copy=True, feature_range=(0, 1))"
      ]
     },
     "execution_count": 11,
     "metadata": {},
     "output_type": "execute_result"
    }
   ],
   "source": [
    "scaler.fit(X_train)"
   ]
  },
  {
   "cell_type": "code",
   "execution_count": 12,
   "metadata": {},
   "outputs": [],
   "source": [
    "Scaled_X_train = scaler.transform(X_train)\n",
    "Scaled_X_test = scaler.transform(X_test)"
   ]
  },
  {
   "cell_type": "code",
   "execution_count": 13,
   "metadata": {},
   "outputs": [
    {
     "name": "stderr",
     "output_type": "stream",
     "text": [
      "Using TensorFlow backend.\n"
     ]
    }
   ],
   "source": [
    "from keras.models import Sequential\n",
    "from keras.layers import Dense"
   ]
  },
  {
   "cell_type": "code",
   "execution_count": 14,
   "metadata": {},
   "outputs": [],
   "source": [
    "# Initialize the ANN\n",
    "classifier = Sequential()"
   ]
  },
  {
   "cell_type": "code",
   "execution_count": 15,
   "metadata": {},
   "outputs": [
    {
     "name": "stdout",
     "output_type": "stream",
     "text": [
      "WARNING:tensorflow:From C:\\Users\\Manan\\Anaconda3\\lib\\site-packages\\tensorflow\\python\\framework\\op_def_library.py:263: colocate_with (from tensorflow.python.framework.ops) is deprecated and will be removed in a future version.\n",
      "Instructions for updating:\n",
      "Colocations handled automatically by placer.\n"
     ]
    }
   ],
   "source": [
    "classifier.add(Dense(4, input_dim = 4, activation = 'relu'))\n",
    "classifier.add(Dense(8, activation = 'relu'))\n",
    "classifier.add(Dense(1, activation = 'sigmoid'))"
   ]
  },
  {
   "cell_type": "code",
   "execution_count": 16,
   "metadata": {},
   "outputs": [],
   "source": [
    "classifier.compile(optimizer='adam', loss='binary_crossentropy', metrics=['accuracy'])"
   ]
  },
  {
   "cell_type": "code",
   "execution_count": 18,
   "metadata": {},
   "outputs": [
    {
     "name": "stdout",
     "output_type": "stream",
     "text": [
      "Epoch 1/100\n",
      " - 0s - loss: 0.1136 - acc: 0.9717\n",
      "Epoch 2/100\n",
      " - 0s - loss: 0.1098 - acc: 0.9728\n",
      "Epoch 3/100\n",
      " - 0s - loss: 0.1063 - acc: 0.9739\n",
      "Epoch 4/100\n",
      " - 0s - loss: 0.1028 - acc: 0.9761\n",
      "Epoch 5/100\n",
      " - 0s - loss: 0.1010 - acc: 0.9706\n",
      "Epoch 6/100\n",
      " - 0s - loss: 0.0972 - acc: 0.9750\n",
      "Epoch 7/100\n",
      " - 0s - loss: 0.0946 - acc: 0.9739\n",
      "Epoch 8/100\n",
      " - 0s - loss: 0.0922 - acc: 0.9728\n",
      "Epoch 9/100\n",
      " - 0s - loss: 0.0905 - acc: 0.9739\n",
      "Epoch 10/100\n",
      " - 0s - loss: 0.0878 - acc: 0.9771\n",
      "Epoch 11/100\n",
      " - 0s - loss: 0.0865 - acc: 0.9750\n",
      "Epoch 12/100\n",
      " - 0s - loss: 0.0832 - acc: 0.9782\n",
      "Epoch 13/100\n",
      " - 0s - loss: 0.0822 - acc: 0.9761\n",
      "Epoch 14/100\n",
      " - 0s - loss: 0.0786 - acc: 0.9804\n",
      "Epoch 15/100\n",
      " - 0s - loss: 0.0770 - acc: 0.9826\n",
      "Epoch 16/100\n",
      " - 0s - loss: 0.0755 - acc: 0.9782\n",
      "Epoch 17/100\n",
      " - 0s - loss: 0.0744 - acc: 0.9782\n",
      "Epoch 18/100\n",
      " - 0s - loss: 0.0733 - acc: 0.9804\n",
      "Epoch 19/100\n",
      " - 0s - loss: 0.0713 - acc: 0.9793\n",
      "Epoch 20/100\n",
      " - 0s - loss: 0.0695 - acc: 0.9815\n",
      "Epoch 21/100\n",
      " - 0s - loss: 0.0680 - acc: 0.9804\n",
      "Epoch 22/100\n",
      " - 0s - loss: 0.0677 - acc: 0.9837\n",
      "Epoch 23/100\n",
      " - 0s - loss: 0.0657 - acc: 0.9826\n",
      "Epoch 24/100\n",
      " - 0s - loss: 0.0642 - acc: 0.9837\n",
      "Epoch 25/100\n",
      " - 0s - loss: 0.0633 - acc: 0.9848\n",
      "Epoch 26/100\n",
      " - 0s - loss: 0.0615 - acc: 0.9826\n",
      "Epoch 27/100\n",
      " - 0s - loss: 0.0604 - acc: 0.9837\n",
      "Epoch 28/100\n",
      " - 0s - loss: 0.0593 - acc: 0.9869\n",
      "Epoch 29/100\n",
      " - 0s - loss: 0.0578 - acc: 0.9880\n",
      "Epoch 30/100\n",
      " - 0s - loss: 0.0568 - acc: 0.9837\n",
      "Epoch 31/100\n",
      " - 0s - loss: 0.0555 - acc: 0.9880\n",
      "Epoch 32/100\n",
      " - 0s - loss: 0.0543 - acc: 0.9869\n",
      "Epoch 33/100\n",
      " - 0s - loss: 0.0542 - acc: 0.9869\n",
      "Epoch 34/100\n",
      " - 0s - loss: 0.0517 - acc: 0.9891\n",
      "Epoch 35/100\n",
      " - 0s - loss: 0.0510 - acc: 0.9880\n",
      "Epoch 36/100\n",
      " - 0s - loss: 0.0493 - acc: 0.9891\n",
      "Epoch 37/100\n",
      " - 0s - loss: 0.0489 - acc: 0.9859\n",
      "Epoch 38/100\n",
      " - 0s - loss: 0.0474 - acc: 0.9913\n",
      "Epoch 39/100\n",
      " - 0s - loss: 0.0465 - acc: 0.9913\n",
      "Epoch 40/100\n",
      " - 0s - loss: 0.0451 - acc: 0.9902\n",
      "Epoch 41/100\n",
      " - 0s - loss: 0.0439 - acc: 0.9913\n",
      "Epoch 42/100\n",
      " - 0s - loss: 0.0428 - acc: 0.9902\n",
      "Epoch 43/100\n",
      " - 0s - loss: 0.0420 - acc: 0.9913\n",
      "Epoch 44/100\n",
      " - 0s - loss: 0.0415 - acc: 0.9913\n",
      "Epoch 45/100\n",
      " - 0s - loss: 0.0404 - acc: 0.9913\n",
      "Epoch 46/100\n",
      " - 0s - loss: 0.0393 - acc: 0.9935\n",
      "Epoch 47/100\n",
      " - 0s - loss: 0.0385 - acc: 0.9913\n",
      "Epoch 48/100\n",
      " - 0s - loss: 0.0381 - acc: 0.9935\n",
      "Epoch 49/100\n",
      " - 0s - loss: 0.0385 - acc: 0.9924\n",
      "Epoch 50/100\n",
      " - 0s - loss: 0.0365 - acc: 0.9913\n",
      "Epoch 51/100\n",
      " - 0s - loss: 0.0359 - acc: 0.9913\n",
      "Epoch 52/100\n",
      " - 0s - loss: 0.0353 - acc: 0.9924\n",
      "Epoch 53/100\n",
      " - 0s - loss: 0.0343 - acc: 0.9935\n",
      "Epoch 54/100\n",
      " - 0s - loss: 0.0338 - acc: 0.9924\n",
      "Epoch 55/100\n",
      " - 0s - loss: 0.0333 - acc: 0.9924\n",
      "Epoch 56/100\n",
      " - 0s - loss: 0.0327 - acc: 0.9935\n",
      "Epoch 57/100\n",
      " - 0s - loss: 0.0322 - acc: 0.9978\n",
      "Epoch 58/100\n",
      " - 0s - loss: 0.0315 - acc: 0.9967\n",
      "Epoch 59/100\n",
      " - 0s - loss: 0.0310 - acc: 0.9946\n",
      "Epoch 60/100\n",
      " - 0s - loss: 0.0304 - acc: 0.9978\n",
      "Epoch 61/100\n",
      " - 0s - loss: 0.0299 - acc: 0.9967\n",
      "Epoch 62/100\n",
      " - 0s - loss: 0.0299 - acc: 0.9978\n",
      "Epoch 63/100\n",
      " - 0s - loss: 0.0291 - acc: 0.9935\n",
      "Epoch 64/100\n",
      " - 0s - loss: 0.0287 - acc: 0.9978\n",
      "Epoch 65/100\n",
      " - 0s - loss: 0.0284 - acc: 0.9967\n",
      "Epoch 66/100\n",
      " - 0s - loss: 0.0281 - acc: 0.9946\n",
      "Epoch 67/100\n",
      " - 0s - loss: 0.0280 - acc: 0.9967\n",
      "Epoch 68/100\n",
      " - 0s - loss: 0.0268 - acc: 0.9978\n",
      "Epoch 69/100\n",
      " - 0s - loss: 0.0267 - acc: 0.9946\n",
      "Epoch 70/100\n",
      " - 0s - loss: 0.0265 - acc: 0.9978\n",
      "Epoch 71/100\n",
      " - 0s - loss: 0.0261 - acc: 0.9946\n",
      "Epoch 72/100\n",
      " - 0s - loss: 0.0253 - acc: 0.9978\n",
      "Epoch 73/100\n",
      " - 0s - loss: 0.0253 - acc: 0.9978\n",
      "Epoch 74/100\n",
      " - 0s - loss: 0.0251 - acc: 0.9978\n",
      "Epoch 75/100\n",
      " - 0s - loss: 0.0242 - acc: 0.9978\n",
      "Epoch 76/100\n",
      " - 0s - loss: 0.0238 - acc: 0.9978\n",
      "Epoch 77/100\n",
      " - 0s - loss: 0.0233 - acc: 0.9978\n",
      "Epoch 78/100\n",
      " - 0s - loss: 0.0231 - acc: 0.9978\n",
      "Epoch 79/100\n",
      " - 0s - loss: 0.0231 - acc: 0.9978\n",
      "Epoch 80/100\n",
      " - 0s - loss: 0.0224 - acc: 0.9978\n",
      "Epoch 81/100\n",
      " - 0s - loss: 0.0222 - acc: 0.9978\n",
      "Epoch 82/100\n",
      " - 0s - loss: 0.0217 - acc: 0.9978\n",
      "Epoch 83/100\n",
      " - 0s - loss: 0.0217 - acc: 0.9978\n",
      "Epoch 84/100\n",
      " - 0s - loss: 0.0214 - acc: 0.9978\n",
      "Epoch 85/100\n",
      " - 0s - loss: 0.0216 - acc: 0.9978\n",
      "Epoch 86/100\n",
      " - 0s - loss: 0.0209 - acc: 0.9978\n",
      "Epoch 87/100\n",
      " - 0s - loss: 0.0204 - acc: 0.9978\n",
      "Epoch 88/100\n",
      " - 0s - loss: 0.0206 - acc: 0.9978\n",
      "Epoch 89/100\n",
      " - 0s - loss: 0.0204 - acc: 0.9978\n",
      "Epoch 90/100\n",
      " - 0s - loss: 0.0198 - acc: 0.9978\n",
      "Epoch 91/100\n",
      " - 0s - loss: 0.0199 - acc: 0.9978\n",
      "Epoch 92/100\n",
      " - 0s - loss: 0.0192 - acc: 0.9978\n",
      "Epoch 93/100\n",
      " - 0s - loss: 0.0194 - acc: 0.9978\n",
      "Epoch 94/100\n",
      " - 0s - loss: 0.0186 - acc: 0.9978\n",
      "Epoch 95/100\n",
      " - 0s - loss: 0.0183 - acc: 0.9978\n",
      "Epoch 96/100\n",
      " - 0s - loss: 0.0182 - acc: 0.9978\n",
      "Epoch 97/100\n",
      " - 0s - loss: 0.0184 - acc: 0.9978\n",
      "Epoch 98/100\n",
      " - 0s - loss: 0.0178 - acc: 0.9978\n",
      "Epoch 99/100\n",
      " - 0s - loss: 0.0174 - acc: 0.9978\n",
      "Epoch 100/100\n",
      " - 0s - loss: 0.0175 - acc: 0.9978\n"
     ]
    },
    {
     "data": {
      "text/plain": [
       "<keras.callbacks.History at 0x23a1d0e0e10>"
      ]
     },
     "execution_count": 18,
     "metadata": {},
     "output_type": "execute_result"
    }
   ],
   "source": [
    "classifier.fit(Scaled_X_train, y_train, epochs = 100, verbose = 2)"
   ]
  },
  {
   "cell_type": "code",
   "execution_count": 21,
   "metadata": {},
   "outputs": [],
   "source": [
    "y_pred = classifier.predict_classes(Scaled_X_test)"
   ]
  },
  {
   "cell_type": "code",
   "execution_count": 24,
   "metadata": {},
   "outputs": [],
   "source": [
    "from sklearn.metrics import confusion_matrix, classification_report"
   ]
  },
  {
   "cell_type": "code",
   "execution_count": 25,
   "metadata": {},
   "outputs": [],
   "source": [
    "cm = confusion_matrix(y_test, y_pred)"
   ]
  },
  {
   "cell_type": "code",
   "execution_count": 26,
   "metadata": {},
   "outputs": [
    {
     "data": {
      "text/plain": [
       "array([[256,   1],\n",
       "       [  0, 196]], dtype=int64)"
      ]
     },
     "execution_count": 26,
     "metadata": {},
     "output_type": "execute_result"
    }
   ],
   "source": [
    "cm"
   ]
  },
  {
   "cell_type": "code",
   "execution_count": 27,
   "metadata": {},
   "outputs": [
    {
     "name": "stdout",
     "output_type": "stream",
     "text": [
      "              precision    recall  f1-score   support\n",
      "\n",
      "         0.0       1.00      1.00      1.00       257\n",
      "         1.0       0.99      1.00      1.00       196\n",
      "\n",
      "   micro avg       1.00      1.00      1.00       453\n",
      "   macro avg       1.00      1.00      1.00       453\n",
      "weighted avg       1.00      1.00      1.00       453\n",
      "\n"
     ]
    }
   ],
   "source": [
    "print(classification_report(y_test, y_pred))"
   ]
  },
  {
   "cell_type": "code",
   "execution_count": 28,
   "metadata": {},
   "outputs": [],
   "source": [
    "# Saving the trained model\n",
    "classifier.save('KerasMLModelTest.h5')"
   ]
  },
  {
   "cell_type": "code",
   "execution_count": 29,
   "metadata": {},
   "outputs": [],
   "source": [
    "# Using the trained Model\n",
    "from keras.models import load_model"
   ]
  },
  {
   "cell_type": "code",
   "execution_count": 30,
   "metadata": {},
   "outputs": [],
   "source": [
    "MyKerasClassifier = load_model('KerasMLModelTest.h5')"
   ]
  },
  {
   "cell_type": "code",
   "execution_count": 32,
   "metadata": {},
   "outputs": [],
   "source": [
    "y_pred = MyKerasClassifier.predict_classes(Scaled_X_test)"
   ]
  },
  {
   "cell_type": "code",
   "execution_count": 33,
   "metadata": {},
   "outputs": [
    {
     "name": "stdout",
     "output_type": "stream",
     "text": [
      "              precision    recall  f1-score   support\n",
      "\n",
      "         0.0       1.00      1.00      1.00       257\n",
      "         1.0       0.99      1.00      1.00       196\n",
      "\n",
      "   micro avg       1.00      1.00      1.00       453\n",
      "   macro avg       1.00      1.00      1.00       453\n",
      "weighted avg       1.00      1.00      1.00       453\n",
      "\n"
     ]
    }
   ],
   "source": [
    "print(classification_report(y_test, y_pred))"
   ]
  },
  {
   "cell_type": "code",
   "execution_count": 38,
   "metadata": {},
   "outputs": [
    {
     "data": {
      "text/plain": [
       "256"
      ]
     },
     "execution_count": 38,
     "metadata": {},
     "output_type": "execute_result"
    }
   ],
   "source": [
    "len(y_pred[y_pred==0])"
   ]
  },
  {
   "cell_type": "code",
   "execution_count": null,
   "metadata": {},
   "outputs": [],
   "source": []
  }
 ],
 "metadata": {
  "kernelspec": {
   "display_name": "Python 3",
   "language": "python",
   "name": "python3"
  },
  "language_info": {
   "codemirror_mode": {
    "name": "ipython",
    "version": 3
   },
   "file_extension": ".py",
   "mimetype": "text/x-python",
   "name": "python",
   "nbconvert_exporter": "python",
   "pygments_lexer": "ipython3",
   "version": "3.6.8"
  }
 },
 "nbformat": 4,
 "nbformat_minor": 2
}
