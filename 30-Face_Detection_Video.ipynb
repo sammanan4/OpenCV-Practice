{
 "cells": [
  {
   "cell_type": "code",
   "execution_count": 1,
   "metadata": {},
   "outputs": [],
   "source": [
    "import cv2 as cv\n",
    "import numpy as np"
   ]
  },
  {
   "cell_type": "code",
   "execution_count": 2,
   "metadata": {},
   "outputs": [],
   "source": [
    "cap = cv.VideoCapture(0)\n",
    "\n",
    "faceDetector = cv.CascadeClassifier('DATA/haarcascades/haarcascade_frontalface_default.xml')\n",
    "\n",
    "def findFace(img):\n",
    "    \n",
    "    matches = faceDetector.detectMultiScale(img)\n",
    "    \n",
    "    for x,y,w,h in matches:\n",
    "        cv.rectangle(img, (x, y), (x+w, y+h), (0,255,0), 5)\n",
    "    \n",
    "    return img\n",
    "\n",
    "while True:\n",
    "    \n",
    "    ret, frame = cap.read()\n",
    "    \n",
    "    frame = findFace(frame)\n",
    "    \n",
    "    cv.imshow('Video', frame)\n",
    "    \n",
    "    k = cv.waitKey(1)\n",
    "    \n",
    "    if k == ord('q'):\n",
    "        break\n",
    "\n",
    "cap.release()\n",
    "cv.destroyAllWindows()"
   ]
  },
  {
   "cell_type": "code",
   "execution_count": null,
   "metadata": {},
   "outputs": [],
   "source": []
  }
 ],
 "metadata": {
  "kernelspec": {
   "display_name": "Python 3",
   "language": "python",
   "name": "python3"
  },
  "language_info": {
   "codemirror_mode": {
    "name": "ipython",
    "version": 3
   },
   "file_extension": ".py",
   "mimetype": "text/x-python",
   "name": "python",
   "nbconvert_exporter": "python",
   "pygments_lexer": "ipython3",
   "version": "3.6.8"
  }
 },
 "nbformat": 4,
 "nbformat_minor": 2
}
