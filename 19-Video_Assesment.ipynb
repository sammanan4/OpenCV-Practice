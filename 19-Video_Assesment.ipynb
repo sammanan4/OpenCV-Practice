{
 "cells": [
  {
   "cell_type": "code",
   "execution_count": 1,
   "metadata": {},
   "outputs": [],
   "source": [
    "import cv2 as cv\n",
    "\n",
    "center = (0,0)\n",
    "circle_drawn = False\n",
    "\n",
    "\n",
    "def draw(event, x, y, flags, params):\n",
    "    \n",
    "    global center, circle_drawn\n",
    "    \n",
    "    if event == cv.EVENT_LBUTTONDOWN:\n",
    "        center = (x,y)\n",
    "        circle_drawn = True\n",
    "\n",
    "cv.namedWindow(winname = 'frame')\n",
    "\n",
    "cv.setMouseCallback('frame', draw)\n",
    "\n",
    "cap = cv.VideoCapture(0)\n",
    "\n",
    "while True:\n",
    "    \n",
    "    ret, frame = cap.read()\n",
    "    \n",
    "    if circle_drawn:\n",
    "        cv.circle(frame, center, radius=50, color=(255,0,0), thickness=3)    \n",
    "    \n",
    "    cv.imshow('frame',frame)\n",
    "    \n",
    "    if cv.waitKey(1) & 0xFF == ord('q'):\n",
    "        break\n",
    "\n",
    "cap.release()\n",
    "cv.destroyAllWindows()"
   ]
  },
  {
   "cell_type": "code",
   "execution_count": null,
   "metadata": {},
   "outputs": [],
   "source": []
  }
 ],
 "metadata": {
  "kernelspec": {
   "display_name": "Python 3",
   "language": "python",
   "name": "python3"
  },
  "language_info": {
   "codemirror_mode": {
    "name": "ipython",
    "version": 3
   },
   "file_extension": ".py",
   "mimetype": "text/x-python",
   "name": "python",
   "nbconvert_exporter": "python",
   "pygments_lexer": "ipython3",
   "version": "3.6.8"
  }
 },
 "nbformat": 4,
 "nbformat_minor": 2
}
