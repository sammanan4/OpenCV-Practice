{
 "cells": [
  {
   "cell_type": "code",
   "execution_count": 2,
   "metadata": {},
   "outputs": [],
   "source": [
    "import cv2 as cv\n",
    "import numpy as np\n",
    "import matplotlib.pyplot as plt"
   ]
  },
  {
   "cell_type": "markdown",
   "metadata": {},
   "source": [
    "<h3> MeanShift </h3>"
   ]
  },
  {
   "cell_type": "code",
   "execution_count": 14,
   "metadata": {},
   "outputs": [],
   "source": [
    "cap = cv.VideoCapture(0)\n",
    "\n",
    "ret, frame = cap.read()\n",
    "\n",
    "faceDetector = cv.CascadeClassifier('DATA/haarcascades/haarcascade_frontalface_default.xml')\n",
    "faces = faceDetector.detectMultiScale(frame)\n",
    "\n",
    "(x, y, w, h) = tuple(faces[0])\n",
    "trackWindow = (x, y, w, h)\n",
    "\n",
    "roi = frame[y:y+h, x:x+w]\n",
    "roiHsv = cv.cvtColor(roi, cv.COLOR_BGR2HSV)\n",
    "\n",
    "roiHist = cv.calcHist([roiHsv], [0], None, [180], [0,180])\n",
    "\n",
    "cv.normalize(roiHist, roiHist, 0, 255, cv.NORM_MINMAX)\n",
    "\n",
    "termCriteria = (cv.TERM_CRITERIA_EPS | cv.TERM_CRITERIA_COUNT, 10, 1)\n",
    "\n",
    "while True:\n",
    "    \n",
    "    ret, frame = cap.read()\n",
    "    \n",
    "    if ret == True:\n",
    "        \n",
    "        hsv = cv.cvtColor(frame, cv.COLOR_BGR2HSV)\n",
    "        \n",
    "        dst = cv.calcBackProject([hsv], [0], roiHist, [0, 180], 1)\n",
    "        \n",
    "        ret, trackWindow = cv.meanShift(dst, trackWindow, termCriteria)\n",
    "        \n",
    "        x, y, w, h = trackWindow\n",
    "        \n",
    "        img2 = cv.rectangle(frame, (x,y), (x+w, y+h), (0, 0, 255), 10)\n",
    "        \n",
    "        cv.imshow('track me',img2)\n",
    "        \n",
    "        if cv.waitKey(10) & 0xFF == 27:\n",
    "            break\n",
    "    \n",
    "    else:\n",
    "        break\n",
    "\n",
    "cv.destroyAllWindows()\n",
    "cap.release()"
   ]
  },
  {
   "cell_type": "markdown",
   "metadata": {},
   "source": [
    "<h3> CamShift </h3>\n",
    "Advantage : can resize"
   ]
  },
  {
   "cell_type": "code",
   "execution_count": 22,
   "metadata": {},
   "outputs": [],
   "source": [
    "cap = cv.VideoCapture(0)\n",
    "\n",
    "ret, frame = cap.read()\n",
    "\n",
    "faceDetector = cv.CascadeClassifier('DATA/haarcascades/haarcascade_frontalface_default.xml')\n",
    "faces = faceDetector.detectMultiScale(frame)\n",
    "\n",
    "(x, y, w, h) = tuple(faces[0])\n",
    "trackWindow = (x, y, w, h)\n",
    "\n",
    "roi = frame[y:y+h, x:x+w]\n",
    "roiHsv = cv.cvtColor(roi, cv.COLOR_BGR2HSV)\n",
    "\n",
    "roiHist = cv.calcHist([roiHsv], [0], None, [180], [0,180])\n",
    "\n",
    "cv.normalize(roiHist, roiHist, 0, 255, cv.NORM_MINMAX)\n",
    "\n",
    "termCriteria = (cv.TERM_CRITERIA_EPS | cv.TERM_CRITERIA_COUNT, 10, 1)\n",
    "\n",
    "while True:\n",
    "    \n",
    "    ret, frame = cap.read()\n",
    "    \n",
    "    if ret == True:\n",
    "        \n",
    "        hsv = cv.cvtColor(frame, cv.COLOR_BGR2HSV)\n",
    "        \n",
    "        dst = cv.calcBackProject([hsv], [0], roiHist, [0, 180], 1)\n",
    "        \n",
    "        ret, trackWindow = cv.CamShift(dst, trackWindow, termCriteria)\n",
    "        \n",
    "        pts = cv.boxPoints(ret)\n",
    "        pts = np.int0(pts)\n",
    "        \n",
    "        img2 = cv.polylines(frame, [pts], True, (0, 0, 255), 5)\n",
    "        \n",
    "        cv.imshow('track me',img2)\n",
    "        \n",
    "        if cv.waitKey(10) & 0xFF == 27:\n",
    "            break\n",
    "    \n",
    "    else:\n",
    "        break\n",
    "\n",
    "cv.destroyAllWindows()\n",
    "cap.release()"
   ]
  },
  {
   "cell_type": "code",
   "execution_count": null,
   "metadata": {},
   "outputs": [],
   "source": []
  }
 ],
 "metadata": {
  "kernelspec": {
   "display_name": "Python 3",
   "language": "python",
   "name": "python3"
  },
  "language_info": {
   "codemirror_mode": {
    "name": "ipython",
    "version": 3
   },
   "file_extension": ".py",
   "mimetype": "text/x-python",
   "name": "python",
   "nbconvert_exporter": "python",
   "pygments_lexer": "ipython3",
   "version": "3.6.8"
  }
 },
 "nbformat": 4,
 "nbformat_minor": 2
}
