{
 "cells": [
  {
   "cell_type": "code",
   "execution_count": 1,
   "metadata": {},
   "outputs": [],
   "source": [
    "import cv2 as cv\n",
    "\n",
    "# declare global variables\n",
    "\n",
    "pt1 = (0,0)\n",
    "pt1 = (0,0)\n",
    "topLeftClicked = False\n",
    "bottomRightClicked = False\n",
    "\n",
    "# Create drawing function\n",
    "def draw_fun(event, x, y, flags, params):\n",
    "    \n",
    "    global pt1, pt2, topLeftClicked, bottomRightClicked\n",
    "    \n",
    "    if event == cv.EVENT_LBUTTONDOWN:\n",
    "        \n",
    "        # RESET THE RECTANGLE\n",
    "        if topLeftClicked and bottomRightClicked:\n",
    "            pt1=(0,0)\n",
    "            pt2=(0,0)\n",
    "            topLeftClicked = False\n",
    "            bottomRightClicked = False\n",
    "        \n",
    "        # IF CLICK FOR IST POINT\n",
    "        if topLeftClicked == False:\n",
    "            pt1 = (x, y)\n",
    "            topLeftClicked = True\n",
    "        \n",
    "        # IF CLICK FOR SECOND POINT\n",
    "        elif bottomRightClicked == False:\n",
    "            pt2 = (x, y)\n",
    "            bottomRightClicked = True\n",
    "\n",
    "# Create Window\n",
    "cv.namedWindow(winname = 'frame')\n",
    "\n",
    "# Set event Callback\n",
    "cv.setMouseCallback('frame', draw_fun)\n",
    "\n",
    "cap = cv.VideoCapture(0)\n",
    "\n",
    "while True:\n",
    "    \n",
    "    ret, frame = cap.read()\n",
    "    \n",
    "    if topLeftClicked:\n",
    "        cv.circle(frame, center=pt1,radius=5,color=(0,0,255),thickness=-1)\n",
    "    \n",
    "    if topLeftClicked and bottomRightClicked:\n",
    "        cv.rectangle(frame, pt1, pt2, (0,0,255), 5)\n",
    "    \n",
    "    cv.imshow('frame', frame)\n",
    "    \n",
    "    if cv.waitKey(1) & 0xFF == ord('q'):\n",
    "        break\n",
    "\n",
    "cap.release()\n",
    "cv.destroyAllWindows()"
   ]
  },
  {
   "cell_type": "code",
   "execution_count": null,
   "metadata": {},
   "outputs": [],
   "source": []
  }
 ],
 "metadata": {
  "kernelspec": {
   "display_name": "Python 3",
   "language": "python",
   "name": "python3"
  },
  "language_info": {
   "codemirror_mode": {
    "name": "ipython",
    "version": 3
   },
   "file_extension": ".py",
   "mimetype": "text/x-python",
   "name": "python",
   "nbconvert_exporter": "python",
   "pygments_lexer": "ipython3",
   "version": "3.6.8"
  }
 },
 "nbformat": 4,
 "nbformat_minor": 2
}
